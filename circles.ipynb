{
 "cells": [
  {
   "cell_type": "code",
   "execution_count": 1,
   "metadata": {},
   "outputs": [],
   "source": [
    "# load necessary libraries\n",
    "library(ggplot2) ## for nice drawings\n",
    "library(ggforce) ## some more graphics\n",
    "library(tidyr)   ## (don't forget to install.packages('tidyverse'))"
   ]
  },
  {
   "cell_type": "markdown",
   "metadata": {},
   "source": [
    "## Data pre-processing\n",
    "To feed the data to `ggplot`/`ggforce`'s method `geom_arc` we need to clean it up in a certain way. Let us look at the raw data:"
   ]
  },
  {
   "cell_type": "code",
   "execution_count": 2,
   "metadata": {},
   "outputs": [
    {
     "name": "stdout",
     "output_type": "stream",
     "text": [
      "'data.frame':\t27729 obs. of  30 variables:\n",
      " $ seq0_leftend  : int  0 0 0 0 0 0 -1153904 -1155194 1685700 -1157043 ...\n",
      " $ seq0_rightend : int  0 0 0 0 0 0 -1153953 -1155238 1688529 -1157091 ...\n",
      " $ seq1_leftend  : int  602660 -762711 0 0 -762709 -762708 0 0 0 0 ...\n",
      " $ seq1_rightend : int  602699 -762883 0 0 -762709 -762708 0 0 0 0 ...\n",
      " $ seq2_leftend  : int  0 0 0 0 0 0 0 -383069 0 0 ...\n",
      " $ seq2_rightend : int  0 0 0 0 0 0 0 -383118 0 0 ...\n",
      " $ seq3_leftend  : int  0 0 0 0 0 0 0 0 0 0 ...\n",
      " $ seq3_rightend : int  0 0 0 0 0 0 0 0 0 0 ...\n",
      " $ seq4_leftend  : int  275041 0 0 0 0 0 0 0 0 0 ...\n",
      " $ seq4_rightend : int  275080 0 0 0 0 0 0 0 0 0 ...\n",
      " $ seq5_leftend  : int  -1105135 0 0 0 0 0 0 0 0 0 ...\n",
      " $ seq5_rightend : int  -1105174 0 0 0 0 0 0 0 0 0 ...\n",
      " $ seq6_leftend  : int  0 -263062 -262866 0 0 0 0 0 0 0 ...\n",
      " $ seq6_rightend : int  0 -263066 -263062 0 0 0 0 0 0 0 ...\n",
      " $ seq7_leftend  : int  0 0 0 -54486 -54483 -54482 0 0 0 0 ...\n",
      " $ seq7_rightend : int  0 0 0 -54541 -54483 -54482 0 0 0 0 ...\n",
      " $ seq8_leftend  : int  156179 0 0 0 0 0 0 0 0 0 ...\n",
      " $ seq8_rightend : int  156218 0 0 0 0 0 0 0 0 0 ...\n",
      " $ seq9_leftend  : int  0 0 0 0 0 0 -712965 -714255 0 -716119 ...\n",
      " $ seq9_rightend : int  0 0 0 0 0 0 -713014 -714299 0 -716167 ...\n",
      " $ seq10_leftend : int  0 0 0 0 0 0 0 0 0 0 ...\n",
      " $ seq10_rightend: int  0 0 0 0 0 0 0 0 0 0 ...\n",
      " $ seq11_leftend : int  -922272 0 0 0 0 0 978148 976901 955545 975008 ...\n",
      " $ seq11_rightend: int  -922311 0 0 0 0 0 978196 976950 958373 975056 ...\n",
      " $ seq12_leftend : int  0 -671777 -671584 -671527 -671524 -671523 0 0 0 0 ...\n",
      " $ seq12_rightend: int  0 -671781 -671776 -671582 -671524 -671523 0 0 0 0 ...\n",
      " $ seq13_leftend : int  0 0 0 0 0 0 0 0 0 0 ...\n",
      " $ seq13_rightend: int  0 0 0 0 0 0 0 0 0 0 ...\n",
      " $ seq14_leftend : int  0 0 0 0 0 0 0 0 0 0 ...\n",
      " $ seq14_rightend: int  0 0 0 0 0 0 0 0 0 0 ...\n"
     ]
    }
   ],
   "source": [
    "df = read.csv(\"./refs.xmfa.backbone\",sep = \"\\t\")\n",
    "str(df)"
   ]
  },
  {
   "cell_type": "markdown",
   "metadata": {},
   "source": [
    "OK, here is the problem: we need it in the format `segment | sequence | left-end | right-end` instead. Let us reshape it. First, we will \"melt\" the `leftend` and `rightend` columns -- transform these into a pair of columns `col_name` (will take values `leftend` or `rightend`) and `coordinate` (will hold the coordinate value)\n",
    "\n",
    "Note that since I don't have anything better I'll use row numbers to identify rows (whatever they are)."
   ]
  },
  {
   "cell_type": "code",
   "execution_count": 3,
   "metadata": {},
   "outputs": [
    {
     "name": "stdout",
     "output_type": "stream",
     "text": [
      "Classes ‘tbl_df’, ‘tbl’ and 'data.frame':\t831870 obs. of  5 variables:\n",
      " $ seg_id    : chr  \"1\" \"1\" \"1\" \"1\" ...\n",
      " $ col_name  : chr  \"seq0_leftend\" \"seq1_leftend\" \"seq2_leftend\" \"seq3_leftend\" ...\n",
      " $ coordinate: int  0 602660 0 0 275041 -1105135 0 0 156179 0 ...\n",
      " $ seq_id    : chr  \"seq0\" \"seq1\" \"seq2\" \"seq3\" ...\n",
      " $ end_type  : chr  \"leftend\" \"leftend\" \"leftend\" \"leftend\" ...\n"
     ]
    }
   ],
   "source": [
    "## reshape the data frame\n",
    "## split row \"properties\" for further re-shaping\n",
    "\n",
    "df$seg_id = rownames(df) # to identify \"segments\"\n",
    "\n",
    "df_lines = df %>%\n",
    "    pivot_longer(cols = c(ends_with(\"leftend\"), ends_with(\"rightend\")),\n",
    "                 names_to = \"col_name\",\n",
    "                 values_to = \"coordinate\")\n",
    "\n",
    "df_lines$seq_id = sub(\"_.*\",\"\",df_lines$col_name)\n",
    "df_lines$end_type = sub(\".*_\",\"\",df_lines$col_name)\n",
    "str(df_lines)"
   ]
  },
  {
   "cell_type": "code",
   "execution_count": 4,
   "metadata": {},
   "outputs": [
    {
     "name": "stdout",
     "output_type": "stream",
     "text": [
      "Classes ‘tbl_df’, ‘tbl’ and 'data.frame':\t415935 obs. of  4 variables:\n",
      " $ seq_id  : chr  \"seq0\" \"seq1\" \"seq2\" \"seq3\" ...\n",
      " $ seg_id  : chr  \"1\" \"1\" \"1\" \"1\" ...\n",
      " $ leftend : int  0 602660 0 0 275041 -1105135 0 0 156179 0 ...\n",
      " $ rightend: int  0 602699 0 0 275080 -1105174 0 0 156218 0 ...\n"
     ]
    }
   ],
   "source": [
    "# now, just \"cast\" the dataframe back into the necessary structure\n",
    "df_lines$col_name = NULL\n",
    "\n",
    "df_segments = pivot_wider(df_lines, id_cols = c(\"seq_id\",\"seg_id\"),\n",
    "                          names_from = \"end_type\",\n",
    "                          values_from = \"coordinate\")\n",
    "\n",
    "str(df_segments)"
   ]
  },
  {
   "cell_type": "markdown",
   "metadata": {},
   "source": [
    "## Data normalization"
   ]
  },
  {
   "cell_type": "code",
   "execution_count": 5,
   "metadata": {},
   "outputs": [
    {
     "name": "stdout",
     "output_type": "stream",
     "text": [
      "'data.frame':\t6 obs. of  4 variables:\n",
      " $ seq_id  : chr  \"seq1\" \"seq1\" \"seq1\" \"seq2\" ...\n",
      " $ seg_id  : chr  \"1\" \"2\" \"3\" \"1\" ...\n",
      " $ leftend : num  0 0.4 0.6 0.4 0.8 0.1\n",
      " $ rightend: num  0.3 0.5 0.7 0.7 0.9 0.2\n"
     ]
    }
   ],
   "source": [
    "## normalize the data to be in [0,1]\n",
    "## I'll just generate random numbers for now\n",
    "## to debug the following drawing procedure\n",
    "\n",
    "dw = read.table(header = T, text='\n",
    "  seq_id seg_id leftend rightend\n",
    "  seq1 1 0.0 0.3\n",
    "  seq1 2 0.4 0.5\n",
    "  seq1 3 0.6 0.7\n",
    "  seq2 1 0.4 0.7\n",
    "  seq2 2 0.8 0.9\n",
    "  seq3 1 0.1 0.2\n",
    "')\n",
    "dw$seq_id = as.character(dw$seq_id)\n",
    "dw$seg_id = as.character(dw$seg_id)\n",
    "\n",
    "str(dw)"
   ]
  },
  {
   "cell_type": "markdown",
   "metadata": {},
   "source": [
    "## Making nice figures, finally"
   ]
  },
  {
   "cell_type": "code",
   "execution_count": 6,
   "metadata": {},
   "outputs": [],
   "source": [
    "## prepare the function\n",
    "## INPUT: \n",
    "## ------\n",
    "##  a dataframe with the following fields:\n",
    "##  seq_id: chr, sequence id\n",
    "##  seg_id: chr, segment id\n",
    "##  leftend,rightend: num between 0 and 1 -- normalized coordinates\n",
    "## RETURNS: a ggplot object\n",
    "draw_circles <- function(df){\n",
    "    df$seq_id = as.factor(df$seq_id)\n",
    "    R0 = 2*length(unique(df$seq_id))\n",
    "    maxval = R0+max(as.numeric(df$seq_id))*2\n",
    "\n",
    "    plt = ggplot(df)+\n",
    "        geom_arc(aes(x0=0,y0=0,start=leftend*2*pi, end = rightend*2*pi, r=R0+as.numeric(seq_id), color=seg_id),size=2)+\n",
    "        geom_segment(x=-maxval,y=0, xend=maxval,yend = 0, color=\"gray\",size=0.1)+\n",
    "        geom_segment(x=0,y=-maxval, xend=0,yend = maxval, color=\"gray\",size=0.1)+\n",
    "        geom_segment(x=0,y=0, xend=0,yend = maxval, color=\"red\",linetype=\"dashed\",size=0.5)+\n",
    "        labs(color=\"Segment ID\")+\n",
    "        xlab(\"\")+\n",
    "        ylab(\"\")+\n",
    "        scale_x_continuous(labels=NULL,breaks=NULL,limits = c(-maxval,maxval))+\n",
    "        scale_y_continuous(labels=NULL,breaks=NULL,limits = c(-maxval, maxval))+\n",
    "        theme_void()+\n",
    "        coord_fixed()\n",
    "    \n",
    "    return(plt)\n",
    "}"
   ]
  },
  {
   "cell_type": "code",
   "execution_count": 7,
   "metadata": {},
   "outputs": [
    {
     "data": {},
     "metadata": {},
     "output_type": "display_data"
    },
    {
     "data": {
      "image/png": "[encoded data removed]",
      "text/plain": [
       "plot without title"
      ]
     },
     "metadata": {},
     "output_type": "display_data"
    }
   ],
   "source": [
    "## test it\n",
    "draw_circles(dw)"
   ]
  }
 ],
 "metadata": {
  "kernelspec": {
   "display_name": "R",
   "language": "R",
   "name": "ir"
  },
  "language_info": {
   "codemirror_mode": "r",
   "file_extension": ".r",
   "mimetype": "text/x-r-source",
   "name": "R",
   "pygments_lexer": "r",
   "version": "3.5.1"
  },
  "latex_envs": {
   "LaTeX_envs_menu_present": true,
   "autoclose": false,
   "autocomplete": true,
   "bibliofile": "biblio.bib",
   "cite_by": "apalike",
   "current_citInitial": 1,
   "eqLabelWithNumbers": true,
   "eqNumInitial": 1,
   "hotkeys": {
    "equation": "Ctrl-E",
    "itemize": "Ctrl-I"
   },
   "labels_anchors": false,
   "latex_user_defs": false,
   "report_style_numbering": false,
   "user_envs_cfg": false
  },
  "toc": {
   "base_numbering": 1,
   "nav_menu": {},
   "number_sections": true,
   "sideBar": true,
   "skip_h1_title": false,
   "title_cell": "Table of Contents",
   "title_sidebar": "Contents",
   "toc_cell": false,
   "toc_position": {},
   "toc_section_display": true,
   "toc_window_display": false
  }
 },
 "nbformat": 4,
 "nbformat_minor": 2
}
